{
 "cells": [
  {
   "cell_type": "code",
   "execution_count": 1,
   "metadata": {},
   "outputs": [],
   "source": [
    "import numpy as np \n",
    "import pandas as pd \n",
    "import matplotlib.pyplot as plt "
   ]
  },
  {
   "cell_type": "code",
   "execution_count": 2,
   "metadata": {},
   "outputs": [
    {
     "name": "stderr",
     "output_type": "stream",
     "text": [
      "C:\\Users\\cheng\\AppData\\Local\\Temp\\ipykernel_11296\\517943265.py:1: DtypeWarning: Columns (26) have mixed types. Specify dtype option on import or set low_memory=False.\n",
      "  train_df=pd.read_csv('./data/train.csv')\n"
     ]
    }
   ],
   "source": [
    "train_df=pd.read_csv('./data/train.csv')\n",
    "# train column\n",
    "# ['ID', 'Customer_ID', 'Month', 'Name', 'Age', 'SSN', 'Occupation',\n",
    "#        'Annual_Income', 'Monthly_Inhand_Salary', 'Num_Bank_Accounts',\n",
    "#        'Num_Credit_Card', 'Interest_Rate', 'Num_of_Loan', 'Type_of_Loan',\n",
    "#        'Delay_from_due_date', 'Num_of_Delayed_Payment', 'Changed_Credit_Limit',\n",
    "#        'Num_Credit_Inquiries', 'Credit_Mix', 'Outstanding_Debt',\n",
    "#        'Credit_Utilization_Ratio', 'Credit_History_Age',\n",
    "#        'Payment_of_Min_Amount', 'Total_EMI_per_month',\n",
    "#        'Amount_invested_monthly', 'Payment_Behaviour', 'Monthly_Balance',\n",
    "#        'Credit_Score']\n",
    "# 'Credit_Score' in 3 class: Good, Standard, Poor.\n",
    "test_df=pd.read_csv('./data/test.csv')\n",
    "# test column\n",
    "# ['ID', 'Customer_ID', 'Month', 'Name', 'Age', 'SSN', 'Occupation',\n",
    "#        'Annual_Income', 'Monthly_Inhand_Salary', 'Num_Bank_Accounts',\n",
    "#        'Num_Credit_Card', 'Interest_Rate', 'Num_of_Loan', 'Type_of_Loan',\n",
    "#        'Delay_from_due_date', 'Num_of_Delayed_Payment', 'Changed_Credit_Limit',\n",
    "#        'Num_Credit_Inquiries', 'Credit_Mix', 'Outstanding_Debt',\n",
    "#        'Credit_Utilization_Ratio', 'Credit_History_Age',\n",
    "#        'Payment_of_Min_Amount', 'Total_EMI_per_month',\n",
    "#        'Amount_invested_monthly', 'Payment_Behaviour', 'Monthly_Balance']\n",
    "\n",
    "# data we need to use\n",
    "# ['Annual_Income','Age','Occupation(one-hot encoding)',']"
   ]
  },
  {
   "cell_type": "code",
   "execution_count": 4,
   "metadata": {},
   "outputs": [
    {
     "name": "stdout",
     "output_type": "stream",
     "text": [
      "Index(['ID', 'Customer_ID', 'Month', 'Name', 'Age', 'SSN', 'Occupation',\n",
      "       'Annual_Income', 'Monthly_Inhand_Salary', 'Num_Bank_Accounts',\n",
      "       'Num_Credit_Card', 'Interest_Rate', 'Num_of_Loan', 'Type_of_Loan',\n",
      "       'Delay_from_due_date', 'Num_of_Delayed_Payment', 'Changed_Credit_Limit',\n",
      "       'Num_Credit_Inquiries', 'Credit_Mix', 'Outstanding_Debt',\n",
      "       'Credit_Utilization_Ratio', 'Credit_History_Age',\n",
      "       'Payment_of_Min_Amount', 'Total_EMI_per_month',\n",
      "       'Amount_invested_monthly', 'Payment_Behaviour', 'Monthly_Balance'],\n",
      "      dtype='object')\n"
     ]
    }
   ],
   "source": [
    "print(test_df.columns)"
   ]
  }
 ],
 "metadata": {
  "kernelspec": {
   "display_name": "ECE253",
   "language": "python",
   "name": "python3"
  },
  "language_info": {
   "codemirror_mode": {
    "name": "ipython",
    "version": 3
   },
   "file_extension": ".py",
   "mimetype": "text/x-python",
   "name": "python",
   "nbconvert_exporter": "python",
   "pygments_lexer": "ipython3",
   "version": "3.9.18"
  }
 },
 "nbformat": 4,
 "nbformat_minor": 2
}
